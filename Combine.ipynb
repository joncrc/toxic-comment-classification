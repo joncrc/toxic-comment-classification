{
 "cells": [
  {
   "cell_type": "code",
   "execution_count": 1,
   "metadata": {
    "collapsed": false,
    "deletable": true,
    "editable": true
   },
   "outputs": [],
   "source": [
    "import numpy as np, pandas as pd\n",
    "\n",
    "p_nbsvm = pd.read_csv('./nbsvm_submission.csv')\n",
    "p_lstm = pd.read_csv('./lstm_submission.csv')\n",
    "p_gru = pd.read_csv('./gru_submission.csv')\n",
    "p_lr = pd.read_csv('./lr_submission.csv')\n",
    "p_lgb = pd.read_csv('./lgb_submission.csv')\n",
    "\n",
    "labels = ['toxic', 'severe_toxic', 'obscene', 'threat', 'insult', 'identity_hate']"
   ]
  },
  {
   "cell_type": "code",
   "execution_count": 2,
   "metadata": {
    "collapsed": true,
    "deletable": true,
    "editable": true
   },
   "outputs": [],
   "source": [
    "p_res = p_lstm.copy()\n",
    "p_res[labels] = (p_nbsvm[labels] + p_lstm[labels]) / 2"
   ]
  },
  {
   "cell_type": "code",
   "execution_count": 5,
   "metadata": {
    "collapsed": false,
    "deletable": true,
    "editable": true
   },
   "outputs": [
    {
     "name": "stdout",
     "output_type": "stream",
     "text": [
      "Scaling toxic... \n",
      "Scaling severe_toxic... \n",
      "Scaling obscene... \n",
      "Scaling threat... \n",
      "Scaling insult... \n",
      "Scaling identity_hate... \n"
     ]
    }
   ],
   "source": [
    "from sklearn.preprocessing import minmax_scale\n",
    "\n",
    "for label in labels:\n",
    "    print('Scaling {}... '.format(label))\n",
    "    p_res[label] = minmax_scale(p_res[label])\n",
    "    p_gru[label] = minmax_scale(p_gru[label])\n",
    "    p_lr[label] = minmax_scale(p_lr[label])"
   ]
  },
  {
   "cell_type": "code",
   "execution_count": null,
   "metadata": {
    "collapsed": false,
    "deletable": true,
    "editable": true
   },
   "outputs": [],
   "source": [
    "for label in labels:\n",
    "    print(label)\n",
    "    print(np.corrcoef([p_lstm[label], p_nbsvm[label]]))"
   ]
  },
  {
   "cell_type": "code",
   "execution_count": 3,
   "metadata": {
    "collapsed": false,
    "deletable": true,
    "editable": true
   },
   "outputs": [],
   "source": [
    "p_final = p_gru.copy()\n",
    "p_final[labels] = p_res[labels]*0.3 + p_gru[labels]*0.4 + p_lr[labels]*0.15 + p_lgb[labels]*0.15"
   ]
  },
  {
   "cell_type": "code",
   "execution_count": 4,
   "metadata": {
    "collapsed": true,
    "deletable": true,
    "editable": true
   },
   "outputs": [],
   "source": [
    "p_final.to_csv('combine_submission_6.csv', index=False)"
   ]
  },
  {
   "cell_type": "code",
   "execution_count": null,
   "metadata": {
    "collapsed": true,
    "deletable": true,
    "editable": true
   },
   "outputs": [],
   "source": []
  }
 ],
 "metadata": {
  "kernelspec": {
   "display_name": "Python 3",
   "language": "python",
   "name": "python3"
  },
  "language_info": {
   "codemirror_mode": {
    "name": "ipython",
    "version": 3
   },
   "file_extension": ".py",
   "mimetype": "text/x-python",
   "name": "python",
   "nbconvert_exporter": "python",
   "pygments_lexer": "ipython3",
   "version": "3.6.0"
  }
 },
 "nbformat": 4,
 "nbformat_minor": 2
}
